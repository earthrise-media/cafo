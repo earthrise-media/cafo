{
 "cells": [
  {
   "cell_type": "code",
   "execution_count": 1,
   "metadata": {},
   "outputs": [],
   "source": [
    "import descarteslabs as dl\n",
    "import matplotlib.pyplot as plt\n",
    "import geopandas as gpd\n",
    "\n",
    "from math import cos\n",
    "from collections import defaultdict"
   ]
  },
  {
   "cell_type": "markdown",
   "metadata": {},
   "source": [
    "#### Load in the Iowa active sites dataset"
   ]
  },
  {
   "cell_type": "code",
   "execution_count": 2,
   "metadata": {},
   "outputs": [
    {
     "data": {
      "text/html": [
       "<div>\n",
       "<style scoped>\n",
       "    .dataframe tbody tr th:only-of-type {\n",
       "        vertical-align: middle;\n",
       "    }\n",
       "\n",
       "    .dataframe tbody tr th {\n",
       "        vertical-align: top;\n",
       "    }\n",
       "\n",
       "    .dataframe thead th {\n",
       "        text-align: right;\n",
       "    }\n",
       "</style>\n",
       "<table border=\"1\" class=\"dataframe\">\n",
       "  <thead>\n",
       "    <tr style=\"text-align: right;\">\n",
       "      <th></th>\n",
       "      <th>facName</th>\n",
       "      <th>LocAddress</th>\n",
       "      <th>CityName</th>\n",
       "      <th>State</th>\n",
       "      <th>locZip</th>\n",
       "      <th>OperatType</th>\n",
       "      <th>Swine</th>\n",
       "      <th>CattleDairy</th>\n",
       "      <th>CattleBeef</th>\n",
       "      <th>Chickens</th>\n",
       "      <th>...</th>\n",
       "      <th>BeefCattle Present</th>\n",
       "      <th>Chickens Present</th>\n",
       "      <th>Turkeys Present</th>\n",
       "      <th>Horses Present</th>\n",
       "      <th>Sheep/Goats Present</th>\n",
       "      <th>Animals Present</th>\n",
       "      <th>colMthTxt</th>\n",
       "      <th>refPntTxt</th>\n",
       "      <th>ColDate</th>\n",
       "      <th>geometry</th>\n",
       "    </tr>\n",
       "  </thead>\n",
       "  <tbody>\n",
       "    <tr>\n",
       "      <th>0</th>\n",
       "      <td>Guthrie Center Egg Farm - Laop</td>\n",
       "      <td>2143 215TH ROAD</td>\n",
       "      <td>Guthrie Center</td>\n",
       "      <td>IA</td>\n",
       "      <td>50115-8542</td>\n",
       "      <td>Confinement</td>\n",
       "      <td>NaN</td>\n",
       "      <td>NaN</td>\n",
       "      <td>NaN</td>\n",
       "      <td>13893.0</td>\n",
       "      <td>...</td>\n",
       "      <td>False</td>\n",
       "      <td>True</td>\n",
       "      <td>False</td>\n",
       "      <td>False</td>\n",
       "      <td>False</td>\n",
       "      <td>Chickens</td>\n",
       "      <td>INTERPOLATION-PHOTO</td>\n",
       "      <td>PLANT ENTRANCE (GENERAL)</td>\n",
       "      <td>2011-07-27</td>\n",
       "      <td>POINT (-94.52204999999999 41.69573)</td>\n",
       "    </tr>\n",
       "    <tr>\n",
       "      <th>1</th>\n",
       "      <td>Sunrise Farms, Inc</td>\n",
       "      <td>2060 WHITE AVE</td>\n",
       "      <td>Harris</td>\n",
       "      <td>IA</td>\n",
       "      <td>51345</td>\n",
       "      <td>Confinement</td>\n",
       "      <td>NaN</td>\n",
       "      <td>NaN</td>\n",
       "      <td>NaN</td>\n",
       "      <td>80000.0</td>\n",
       "      <td>...</td>\n",
       "      <td>False</td>\n",
       "      <td>True</td>\n",
       "      <td>False</td>\n",
       "      <td>False</td>\n",
       "      <td>False</td>\n",
       "      <td>Chickens</td>\n",
       "      <td>INTERPOLATION-PHOTO</td>\n",
       "      <td>PLANT ENTRANCE (GENERAL)</td>\n",
       "      <td>2017-05-18</td>\n",
       "      <td>POINT (-95.44726 43.3487)</td>\n",
       "    </tr>\n",
       "    <tr>\n",
       "      <th>2</th>\n",
       "      <td>Daybreak Foods Vincent Complex</td>\n",
       "      <td>3159 BUCHANAN AVE</td>\n",
       "      <td>Eagle Grove</td>\n",
       "      <td>IA</td>\n",
       "      <td>50533</td>\n",
       "      <td>Confinement</td>\n",
       "      <td>NaN</td>\n",
       "      <td>NaN</td>\n",
       "      <td>NaN</td>\n",
       "      <td>60383.0</td>\n",
       "      <td>...</td>\n",
       "      <td>False</td>\n",
       "      <td>True</td>\n",
       "      <td>False</td>\n",
       "      <td>False</td>\n",
       "      <td>False</td>\n",
       "      <td>Chickens</td>\n",
       "      <td>INTERPOLATION-PHOTO</td>\n",
       "      <td>PLANT ENTRANCE (GENERAL)</td>\n",
       "      <td>2005-09-06</td>\n",
       "      <td>POINT (-93.94223 42.59563)</td>\n",
       "    </tr>\n",
       "    <tr>\n",
       "      <th>3</th>\n",
       "      <td>Cedar Lane Estates, Incorporated</td>\n",
       "      <td>1114 J AVE</td>\n",
       "      <td>Jefferson</td>\n",
       "      <td>IA</td>\n",
       "      <td>50129</td>\n",
       "      <td>Confinement</td>\n",
       "      <td>1992.0</td>\n",
       "      <td>NaN</td>\n",
       "      <td>NaN</td>\n",
       "      <td>NaN</td>\n",
       "      <td>...</td>\n",
       "      <td>False</td>\n",
       "      <td>False</td>\n",
       "      <td>False</td>\n",
       "      <td>False</td>\n",
       "      <td>False</td>\n",
       "      <td>Swine</td>\n",
       "      <td>INTERPOLATION-PHOTO</td>\n",
       "      <td>PLANT ENTRANCE (GENERAL)</td>\n",
       "      <td>2017-01-04</td>\n",
       "      <td>POINT (-94.46129000000001 42.06094)</td>\n",
       "    </tr>\n",
       "    <tr>\n",
       "      <th>4</th>\n",
       "      <td>Jbh Groeneweg Site 1</td>\n",
       "      <td>2864 Fig Ave</td>\n",
       "      <td>Rock Valley</td>\n",
       "      <td>IA</td>\n",
       "      <td>51247</td>\n",
       "      <td>Open Feedlot</td>\n",
       "      <td>NaN</td>\n",
       "      <td>NaN</td>\n",
       "      <td>700.0</td>\n",
       "      <td>NaN</td>\n",
       "      <td>...</td>\n",
       "      <td>True</td>\n",
       "      <td>False</td>\n",
       "      <td>False</td>\n",
       "      <td>False</td>\n",
       "      <td>False</td>\n",
       "      <td>BeefCattle</td>\n",
       "      <td>INTERPOLATION-PHOTO</td>\n",
       "      <td>CENTER OF FACILITY</td>\n",
       "      <td>2017-06-15</td>\n",
       "      <td>POINT (-96.27392 43.23656)</td>\n",
       "    </tr>\n",
       "    <tr>\n",
       "      <th>...</th>\n",
       "      <td>...</td>\n",
       "      <td>...</td>\n",
       "      <td>...</td>\n",
       "      <td>...</td>\n",
       "      <td>...</td>\n",
       "      <td>...</td>\n",
       "      <td>...</td>\n",
       "      <td>...</td>\n",
       "      <td>...</td>\n",
       "      <td>...</td>\n",
       "      <td>...</td>\n",
       "      <td>...</td>\n",
       "      <td>...</td>\n",
       "      <td>...</td>\n",
       "      <td>...</td>\n",
       "      <td>...</td>\n",
       "      <td>...</td>\n",
       "      <td>...</td>\n",
       "      <td>...</td>\n",
       "      <td>...</td>\n",
       "      <td>...</td>\n",
       "    </tr>\n",
       "    <tr>\n",
       "      <th>9978</th>\n",
       "      <td>Weis Family Feeders</td>\n",
       "      <td>1479 Quauk Avenue</td>\n",
       "      <td>Afton</td>\n",
       "      <td>IA</td>\n",
       "      <td>50830</td>\n",
       "      <td>Confinement</td>\n",
       "      <td>980.0</td>\n",
       "      <td>NaN</td>\n",
       "      <td>NaN</td>\n",
       "      <td>NaN</td>\n",
       "      <td>...</td>\n",
       "      <td>False</td>\n",
       "      <td>False</td>\n",
       "      <td>False</td>\n",
       "      <td>False</td>\n",
       "      <td>False</td>\n",
       "      <td>Swine</td>\n",
       "      <td>INTERPOLATION-PHOTO</td>\n",
       "      <td>CENTER OF FACILITY</td>\n",
       "      <td>2020-07-16</td>\n",
       "      <td>POINT (-94.16158 41.08844)</td>\n",
       "    </tr>\n",
       "    <tr>\n",
       "      <th>9979</th>\n",
       "      <td>Thompson Pork - Jake &amp; Danielle Thompson</td>\n",
       "      <td>250th Street</td>\n",
       "      <td>Bridgewater</td>\n",
       "      <td>IA</td>\n",
       "      <td>508370000</td>\n",
       "      <td>Confinement</td>\n",
       "      <td>980.0</td>\n",
       "      <td>NaN</td>\n",
       "      <td>NaN</td>\n",
       "      <td>NaN</td>\n",
       "      <td>...</td>\n",
       "      <td>False</td>\n",
       "      <td>False</td>\n",
       "      <td>False</td>\n",
       "      <td>False</td>\n",
       "      <td>False</td>\n",
       "      <td>Swine</td>\n",
       "      <td>INTERPOLATION-PHOTO</td>\n",
       "      <td>CENTER OF FACILITY</td>\n",
       "      <td>2020-07-16</td>\n",
       "      <td>POINT (-94.63784 41.29117)</td>\n",
       "    </tr>\n",
       "    <tr>\n",
       "      <th>9980</th>\n",
       "      <td>Brush Creek Henhouse Llc</td>\n",
       "      <td>175th Street</td>\n",
       "      <td>Leon</td>\n",
       "      <td>IA</td>\n",
       "      <td>50144</td>\n",
       "      <td>Confinement</td>\n",
       "      <td>NaN</td>\n",
       "      <td>NaN</td>\n",
       "      <td>NaN</td>\n",
       "      <td>200.0</td>\n",
       "      <td>...</td>\n",
       "      <td>False</td>\n",
       "      <td>True</td>\n",
       "      <td>False</td>\n",
       "      <td>False</td>\n",
       "      <td>False</td>\n",
       "      <td>Chickens</td>\n",
       "      <td>INTERPOLATION-PHOTO</td>\n",
       "      <td>CENTER OF FACILITY</td>\n",
       "      <td>2020-07-30</td>\n",
       "      <td>POINT (-93.73882 40.79384)</td>\n",
       "    </tr>\n",
       "    <tr>\n",
       "      <th>9981</th>\n",
       "      <td>Kaufman Farms Llc</td>\n",
       "      <td>Cedar Road</td>\n",
       "      <td>Panama</td>\n",
       "      <td>IA</td>\n",
       "      <td>51562</td>\n",
       "      <td>Confinement</td>\n",
       "      <td>980.0</td>\n",
       "      <td>NaN</td>\n",
       "      <td>NaN</td>\n",
       "      <td>NaN</td>\n",
       "      <td>...</td>\n",
       "      <td>False</td>\n",
       "      <td>False</td>\n",
       "      <td>False</td>\n",
       "      <td>False</td>\n",
       "      <td>False</td>\n",
       "      <td>Swine</td>\n",
       "      <td>INTERPOLATION-PHOTO</td>\n",
       "      <td>CENTER OF FACILITY</td>\n",
       "      <td>2020-07-29</td>\n",
       "      <td>POINT (-95.31149000000001 41.69327)</td>\n",
       "    </tr>\n",
       "    <tr>\n",
       "      <th>9982</th>\n",
       "      <td>Paul Klocke - Gay 5</td>\n",
       "      <td>230th Street</td>\n",
       "      <td>Bedford</td>\n",
       "      <td>IA</td>\n",
       "      <td>50833</td>\n",
       "      <td>Confinement</td>\n",
       "      <td>960.0</td>\n",
       "      <td>NaN</td>\n",
       "      <td>NaN</td>\n",
       "      <td>NaN</td>\n",
       "      <td>...</td>\n",
       "      <td>False</td>\n",
       "      <td>False</td>\n",
       "      <td>False</td>\n",
       "      <td>False</td>\n",
       "      <td>False</td>\n",
       "      <td>Swine</td>\n",
       "      <td>INTERPOLATION-PHOTO</td>\n",
       "      <td>CENTER OF FACILITY</td>\n",
       "      <td>2020-09-14</td>\n",
       "      <td>POINT (-94.55194 40.71574)</td>\n",
       "    </tr>\n",
       "  </tbody>\n",
       "</table>\n",
       "<p>9983 rows × 25 columns</p>\n",
       "</div>"
      ],
      "text/plain": [
       "                                       facName         LocAddress  \\\n",
       "0               Guthrie Center Egg Farm - Laop    2143 215TH ROAD   \n",
       "1                           Sunrise Farms, Inc     2060 WHITE AVE   \n",
       "2               Daybreak Foods Vincent Complex  3159 BUCHANAN AVE   \n",
       "3             Cedar Lane Estates, Incorporated         1114 J AVE   \n",
       "4                         Jbh Groeneweg Site 1       2864 Fig Ave   \n",
       "...                                        ...                ...   \n",
       "9978                       Weis Family Feeders  1479 Quauk Avenue   \n",
       "9979  Thompson Pork - Jake & Danielle Thompson       250th Street   \n",
       "9980                  Brush Creek Henhouse Llc       175th Street   \n",
       "9981                         Kaufman Farms Llc         Cedar Road   \n",
       "9982                       Paul Klocke - Gay 5       230th Street   \n",
       "\n",
       "            CityName State      locZip    OperatType   Swine  CattleDairy  \\\n",
       "0     Guthrie Center    IA  50115-8542   Confinement     NaN          NaN   \n",
       "1             Harris    IA       51345   Confinement     NaN          NaN   \n",
       "2        Eagle Grove    IA       50533   Confinement     NaN          NaN   \n",
       "3          Jefferson    IA       50129   Confinement  1992.0          NaN   \n",
       "4        Rock Valley    IA       51247  Open Feedlot     NaN          NaN   \n",
       "...              ...   ...         ...           ...     ...          ...   \n",
       "9978           Afton    IA       50830   Confinement   980.0          NaN   \n",
       "9979     Bridgewater    IA   508370000   Confinement   980.0          NaN   \n",
       "9980            Leon    IA       50144   Confinement     NaN          NaN   \n",
       "9981          Panama    IA       51562   Confinement   980.0          NaN   \n",
       "9982         Bedford    IA       50833   Confinement   960.0          NaN   \n",
       "\n",
       "      CattleBeef  Chickens  ...  BeefCattle Present  Chickens Present  \\\n",
       "0            NaN   13893.0  ...               False              True   \n",
       "1            NaN   80000.0  ...               False              True   \n",
       "2            NaN   60383.0  ...               False              True   \n",
       "3            NaN       NaN  ...               False             False   \n",
       "4          700.0       NaN  ...                True             False   \n",
       "...          ...       ...  ...                 ...               ...   \n",
       "9978         NaN       NaN  ...               False             False   \n",
       "9979         NaN       NaN  ...               False             False   \n",
       "9980         NaN     200.0  ...               False              True   \n",
       "9981         NaN       NaN  ...               False             False   \n",
       "9982         NaN       NaN  ...               False             False   \n",
       "\n",
       "      Turkeys Present  Horses Present  Sheep/Goats Present  Animals Present  \\\n",
       "0               False           False                False         Chickens   \n",
       "1               False           False                False         Chickens   \n",
       "2               False           False                False         Chickens   \n",
       "3               False           False                False            Swine   \n",
       "4               False           False                False       BeefCattle   \n",
       "...               ...             ...                  ...              ...   \n",
       "9978            False           False                False            Swine   \n",
       "9979            False           False                False            Swine   \n",
       "9980            False           False                False         Chickens   \n",
       "9981            False           False                False            Swine   \n",
       "9982            False           False                False            Swine   \n",
       "\n",
       "                colMthTxt                 refPntTxt     ColDate  \\\n",
       "0     INTERPOLATION-PHOTO  PLANT ENTRANCE (GENERAL)  2011-07-27   \n",
       "1     INTERPOLATION-PHOTO  PLANT ENTRANCE (GENERAL)  2017-05-18   \n",
       "2     INTERPOLATION-PHOTO  PLANT ENTRANCE (GENERAL)  2005-09-06   \n",
       "3     INTERPOLATION-PHOTO  PLANT ENTRANCE (GENERAL)  2017-01-04   \n",
       "4     INTERPOLATION-PHOTO        CENTER OF FACILITY  2017-06-15   \n",
       "...                   ...                       ...         ...   \n",
       "9978  INTERPOLATION-PHOTO        CENTER OF FACILITY  2020-07-16   \n",
       "9979  INTERPOLATION-PHOTO        CENTER OF FACILITY  2020-07-16   \n",
       "9980  INTERPOLATION-PHOTO        CENTER OF FACILITY  2020-07-30   \n",
       "9981  INTERPOLATION-PHOTO        CENTER OF FACILITY  2020-07-29   \n",
       "9982  INTERPOLATION-PHOTO        CENTER OF FACILITY  2020-09-14   \n",
       "\n",
       "                                 geometry  \n",
       "0     POINT (-94.52204999999999 41.69573)  \n",
       "1               POINT (-95.44726 43.3487)  \n",
       "2              POINT (-93.94223 42.59563)  \n",
       "3     POINT (-94.46129000000001 42.06094)  \n",
       "4              POINT (-96.27392 43.23656)  \n",
       "...                                   ...  \n",
       "9978           POINT (-94.16158 41.08844)  \n",
       "9979           POINT (-94.63784 41.29117)  \n",
       "9980           POINT (-93.73882 40.79384)  \n",
       "9981  POINT (-95.31149000000001 41.69327)  \n",
       "9982           POINT (-94.55194 40.71574)  \n",
       "\n",
       "[9983 rows x 25 columns]"
      ]
     },
     "execution_count": 2,
     "metadata": {},
     "output_type": "execute_result"
    }
   ],
   "source": [
    "active_sites_df = gpd.read_file('Iowa CAFOs/active_sites.geojson')\n",
    "active_sites_df"
   ]
  },
  {
   "cell_type": "markdown",
   "metadata": {},
   "source": [
    "#### Number of sites with each reference point type"
   ]
  },
  {
   "cell_type": "code",
   "execution_count": 3,
   "metadata": {},
   "outputs": [
    {
     "data": {
      "text/plain": [
       "CENTER OF FACILITY                       3591\n",
       "PLANT ENTRANCE (GENERAL)                  330\n",
       "STORAGE TANK                                6\n",
       "ADMINISTRATIVE BUILDING                     2\n",
       "COMBINED ANIMAL FEED OPERATION (CAFO)       1\n",
       "Name: refPntTxt, dtype: int64"
      ]
     },
     "execution_count": 3,
     "metadata": {},
     "output_type": "execute_result"
    }
   ],
   "source": [
    "active_sites_df['refPntTxt'].value_counts()"
   ]
  },
  {
   "cell_type": "markdown",
   "metadata": {},
   "source": [
    "#### Number of sites with no reference point type listed"
   ]
  },
  {
   "cell_type": "code",
   "execution_count": 4,
   "metadata": {},
   "outputs": [
    {
     "data": {
      "text/plain": [
       "6053"
      ]
     },
     "execution_count": 4,
     "metadata": {},
     "output_type": "execute_result"
    }
   ],
   "source": [
    "sum(active_sites_df['refPntTxt'].isnull())"
   ]
  },
  {
   "cell_type": "markdown",
   "metadata": {},
   "source": [
    "## NAIP Imagery"
   ]
  },
  {
   "cell_type": "markdown",
   "metadata": {},
   "source": [
    "### Timeframe coverage"
   ]
  },
  {
   "cell_type": "markdown",
   "metadata": {},
   "source": [
    "#### NAIP 1 meter collection timeframe"
   ]
  },
  {
   "cell_type": "code",
   "execution_count": 5,
   "metadata": {},
   "outputs": [],
   "source": [
    "naip_1m_start = '2012-01-01'\n",
    "naip_1m_end = '2018-01-01'"
   ]
  },
  {
   "cell_type": "markdown",
   "metadata": {},
   "source": [
    "#### Identify which sites were labeled prior to the end of the NAIP 1 meter collection"
   ]
  },
  {
   "cell_type": "code",
   "execution_count": 6,
   "metadata": {},
   "outputs": [],
   "source": [
    "naip_1m_idx = []\n",
    "for i in range(len(active_sites_df)):\n",
    "    if active_sites_df.iloc[i].ColDate <= naip_1m_end:\n",
    "        naip_1m_idx.append(i)"
   ]
  },
  {
   "cell_type": "code",
   "execution_count": 7,
   "metadata": {},
   "outputs": [
    {
     "data": {
      "text/plain": [
       "9491"
      ]
     },
     "execution_count": 7,
     "metadata": {},
     "output_type": "execute_result"
    }
   ],
   "source": [
    "len(naip_1m_idx)"
   ]
  },
  {
   "cell_type": "markdown",
   "metadata": {},
   "source": [
    "#### NAIP 0.6 meter collection timeframe"
   ]
  },
  {
   "cell_type": "code",
   "execution_count": 8,
   "metadata": {},
   "outputs": [],
   "source": [
    "naip_06m_start = '2018-01-01'\n",
    "naip_06m_end = '2018-12-31'"
   ]
  },
  {
   "cell_type": "markdown",
   "metadata": {},
   "source": [
    "#### Identify which sites were labeled prior to the end of the NAIP 0.6 meter collection"
   ]
  },
  {
   "cell_type": "code",
   "execution_count": 9,
   "metadata": {},
   "outputs": [],
   "source": [
    "naip_06m_idx = []\n",
    "for i in range(len(active_sites_df)):\n",
    "    if active_sites_df.iloc[i].ColDate <= naip_06m_end:\n",
    "        naip_06m_idx.append(i)"
   ]
  },
  {
   "cell_type": "code",
   "execution_count": 10,
   "metadata": {},
   "outputs": [
    {
     "data": {
      "text/plain": [
       "9820"
      ]
     },
     "execution_count": 10,
     "metadata": {},
     "output_type": "execute_result"
    }
   ],
   "source": [
    "len(naip_06m_idx)"
   ]
  },
  {
   "cell_type": "markdown",
   "metadata": {},
   "source": [
    "### Identify the scenes completely covering a 1 kilometer bounding box centered on the site coordinates"
   ]
  },
  {
   "cell_type": "markdown",
   "metadata": {},
   "source": [
    "#### Helper function defining the geojson specification for the bounding box"
   ]
  },
  {
   "cell_type": "code",
   "execution_count": 11,
   "metadata": {},
   "outputs": [],
   "source": [
    "def bbox_coordinates(long,lat,bbox_length):\n",
    "    \"\"\" Returns a geojson specification of a bounding box centered on (lat,long) of size bbox_length meters \"\"\"\n",
    "    \n",
    "    # Conversion factor in degrees per meter\n",
    "    dpm = 9e-6\n",
    "    \n",
    "    # Compute the delta in latitude\n",
    "    delta_lat = dpm*bbox_length/2\n",
    "    \n",
    "    # Compute the delta in longitude\n",
    "    delta_long = dpm*bbox_length/(2*cos(lat))\n",
    "    \n",
    "    # Prepare the geojson specification\n",
    "    spec = { \"type\": \"Feature\",\n",
    "             \"bbox\": [long-delta_long, lat-delta_lat, long+delta_long, lat+delta_lat],\n",
    "             \"geometry\": {\n",
    "              \"type\": \"Polygon\",\n",
    "              \"coordinates\": [[\n",
    "                [long-delta_long, lat-delta_lat], [long-delta_long, lat+delta_lat], \n",
    "                [long+delta_long, lat+delta_lat], [long+delta_long, lat-delta_lat]\n",
    "                ]]\n",
    "              }\n",
    "            }\n",
    "    \n",
    "    return spec"
   ]
  },
  {
   "cell_type": "markdown",
   "metadata": {},
   "source": [
    "#### NAIP 1 meter collection"
   ]
  },
  {
   "cell_type": "code",
   "execution_count": 12,
   "metadata": {},
   "outputs": [
    {
     "name": "stdout",
     "output_type": "stream",
     "text": [
      "Processed 1000 sites.\n",
      "Processed 2000 sites.\n",
      "Processed 3000 sites.\n",
      "Processed 4000 sites.\n",
      "Processed 5000 sites.\n",
      "Processed 6000 sites.\n",
      "Processed 7000 sites.\n",
      "Processed 8000 sites.\n",
      "Processed 9000 sites.\n"
     ]
    }
   ],
   "source": [
    "naip_1m_site_scenes = defaultdict(list)\n",
    "j = 0\n",
    "for i in naip_1m_idx:\n",
    "    \n",
    "    # Get the site record\n",
    "    site = active_sites_df.iloc[i]\n",
    "    \n",
    "    # Get the site coordinates\n",
    "    (site_long,site_lat) = site.geometry.coords[0]\n",
    "\n",
    "    # Compute the coordinates of the 1 kilometer bounding box\n",
    "    site_bbox = bbox_coordinates(site_long,site_lat,1e3)\n",
    "\n",
    "    # Search for imagery covering the site bounding box\n",
    "    scenes, ctx = dl.scenes.search(\n",
    "        aoi=site_bbox,\n",
    "        products=[\"usda:naip:rgbn:v1\"],\n",
    "        start_datetime=naip_1m_start,\n",
    "        end_datetime=naip_1m_end\n",
    "    )\n",
    "    \n",
    "    # Save the scenes where the bounding box is completely covered\n",
    "    for scene in scenes:\n",
    "        if scene.coverage(site_bbox) == 1.0:\n",
    "            naip_1m_site_scenes[i].append(scene)\n",
    "    \n",
    "    j += 1\n",
    "    if j % 1000 == 0:\n",
    "        print(f\"Processed {j} sites.\")"
   ]
  },
  {
   "cell_type": "markdown",
   "metadata": {},
   "source": [
    "#### NAIP 0.6 meter collection"
   ]
  },
  {
   "cell_type": "code",
   "execution_count": null,
   "metadata": {},
   "outputs": [],
   "source": []
  },
  {
   "cell_type": "code",
   "execution_count": 13,
   "metadata": {},
   "outputs": [
    {
     "data": {
      "text/plain": [
       "'\\n# Pick just one scene\\nscene = scenes[0]\\n\\n# Load the data as an ndarray\\narr = scene.ndarray(\"red green blue\", ctx)\\n\\n# Display the scene\\ndl.scenes.display(arr, title=scene.properties.id)\\n'"
      ]
     },
     "execution_count": 13,
     "metadata": {},
     "output_type": "execute_result"
    }
   ],
   "source": [
    "\"\"\"\n",
    "# Pick just one scene\n",
    "scene = scenes[0]\n",
    "\n",
    "# Load the data as an ndarray\n",
    "arr = scene.ndarray(\"red green blue\", ctx)\n",
    "\n",
    "# Display the scene\n",
    "dl.scenes.display(arr, title=scene.properties.id)\n",
    "\"\"\""
   ]
  },
  {
   "cell_type": "code",
   "execution_count": null,
   "metadata": {},
   "outputs": [],
   "source": []
  }
 ],
 "metadata": {
  "kernelspec": {
   "display_name": "Python 3",
   "language": "python",
   "name": "python3"
  },
  "language_info": {
   "codemirror_mode": {
    "name": "ipython",
    "version": 3
   },
   "file_extension": ".py",
   "mimetype": "text/x-python",
   "name": "python",
   "nbconvert_exporter": "python",
   "pygments_lexer": "ipython3",
   "version": "3.7.8"
  }
 },
 "nbformat": 4,
 "nbformat_minor": 4
}
